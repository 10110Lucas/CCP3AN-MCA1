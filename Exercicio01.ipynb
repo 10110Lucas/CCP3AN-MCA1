{
 "cells": [
  {
   "cell_type": "markdown",
   "metadata": {},
   "source": [
    "## Lucas de Souza Silva\n",
    "## RA: 817123053"
   ]
  },
  {
   "cell_type": "markdown",
   "metadata": {},
   "source": [
    "### 1- Faça um Programa que peça o raio de um círculo, calcule e mostre sua área."
   ]
  },
  {
   "cell_type": "code",
   "execution_count": 40,
   "metadata": {},
   "outputs": [
    {
     "name": "stdout",
     "output_type": "stream",
     "text": [
      "Valor do raio: 2\n",
      "Tamanho da area:  12.56\n"
     ]
    }
   ],
   "source": [
    "raio = int(input('Valor do raio: '))\n",
    "area = 3.14 * (raio ** 2)\n",
    "\n",
    "print(\"Tamanho da area: \", area)"
   ]
  },
  {
   "cell_type": "markdown",
   "metadata": {},
   "source": [
    "### 2- Faça um Programa que calcule a área de um quadrado, em seguida mostre o dobro desta área para o usuário."
   ]
  },
  {
   "cell_type": "code",
   "execution_count": 42,
   "metadata": {},
   "outputs": [
    {
     "name": "stdout",
     "output_type": "stream",
     "text": [
      "Tamanho do quadrado: 2\n",
      "Area do quadrado:  4 m²\n"
     ]
    }
   ],
   "source": [
    "tamanho = int(input('Tamanho do quadrado: '))\n",
    "area = tamanho ** 2\n",
    "\n",
    "print('Area do quadrado: ', area, 'm²')"
   ]
  },
  {
   "cell_type": "markdown",
   "metadata": {},
   "source": [
    "### 3- Faça um Programa que pergunte quanto você ganha por hora e o número de horas trabalhadas no mês. Calcule e mostre o total do seu salário no referido mês."
   ]
  },
  {
   "cell_type": "code",
   "execution_count": 69,
   "metadata": {},
   "outputs": [
    {
     "name": "stdout",
     "output_type": "stream",
     "text": [
      "Digite o valor da hora: 0.25\n",
      "Digite quantas horas foram trabalhadas no mes: 10\n",
      "Salário a receber no total de R$2.50\n"
     ]
    }
   ],
   "source": [
    "valor = float(input(\"Digite o valor da hora: \"))\n",
    "horas = int(input(\"Digite quantas horas foram trabalhadas no mes: \"))\n",
    "total = float(valor * horas)\n",
    "\n",
    "print(\"Salário a receber no total de R$%.2f\" %total)"
   ]
  },
  {
   "cell_type": "markdown",
   "metadata": {},
   "source": [
    "### 4- Faça um Programa que peça a temperatura em graus Farenheit, transforme e mostre a temperatura em graus Celsius. C = (5 * (F-32) / 9)."
   ]
  },
  {
   "cell_type": "code",
   "execution_count": 66,
   "metadata": {},
   "outputs": [
    {
     "name": "stdout",
     "output_type": "stream",
     "text": [
      "Digite o valor da temperatura: 74\n",
      "\n",
      "Temperatura em graus Celsius: 23.33 C°\n"
     ]
    }
   ],
   "source": [
    "farenheit = float(input(\"Digite o valor da temperatura: \"))\n",
    "celsius = float(5 * (farenheit - 32) / 9)\n",
    "\n",
    "print(\"\\nTemperatura em graus Celsius: %.2f C°\" %celsius)"
   ]
  },
  {
   "cell_type": "markdown",
   "metadata": {},
   "source": [
    "### 5- Faça um Programa que peça a temperatura em graus Celsius, transforme e mostre em graus Farenheit."
   ]
  },
  {
   "cell_type": "code",
   "execution_count": 68,
   "metadata": {},
   "outputs": [
    {
     "name": "stdout",
     "output_type": "stream",
     "text": [
      "Digite o valor da temperatura: 100\n",
      "\n",
      "Temperatura em graus Celsius: 212.00 F°\n"
     ]
    }
   ],
   "source": [
    "celsius = float(input(\"Digite o valor da temperatura: \"))\n",
    "farenheit = float((celsius * 1.8) + 32)\n",
    "\n",
    "print(\"\\nTemperatura em graus Celsius: %.2f F°\" %farenheit)"
   ]
  },
  {
   "cell_type": "markdown",
   "metadata": {},
   "source": [
    "### 6 Faça um Programa que peça 2 números inteiros e um número real. Calcule e mostre:\n",
    "- o produto do dobro do primeiro com metade do segundo .\n",
    "- a soma do triplo do primeiro com o terceiro.\n",
    "- o terceiro elevado ao cubo."
   ]
  },
  {
   "cell_type": "code",
   "execution_count": 76,
   "metadata": {},
   "outputs": [
    {
     "name": "stdout",
     "output_type": "stream",
     "text": [
      "Digite o primeiro numero: 2\n",
      "Digite o segundo numero: 4\n",
      "Digite um numero real: 2\n",
      "\n",
      "1- Dobro do primeiro: 4\n",
      "Metade do segundo: 2.00\n",
      "\n",
      "2- Soma do triplo do primeiro com o terceiro: 10.00\n",
      "\n",
      "3- Terceiro elevado ao cubo: 8.00\n"
     ]
    }
   ],
   "source": [
    "inteiro01 = int(input(\"Digite o primeiro numero: \"))\n",
    "inteiro02 = int(input(\"Digite o segundo numero: \"))\n",
    "real = float(input(\"Digite um numero real: \"))\n",
    "\n",
    "dobro = inteiro01 * 2\n",
    "metade = float(inteiro02 * 0.5)\n",
    "print(\"\\n1- Dobro do primeiro: %s\\nMetade do segundo: %.2f\" %(dobro, metade))\n",
    "\n",
    "soma = float((inteiro01 ** 3) + real)\n",
    "print(\"\\n2- Soma do triplo do primeiro com o terceiro: %.2f\" %soma)\n",
    "\n",
    "cubo = real ** 3\n",
    "print(\"\\n3- Terceiro elevado ao cubo: %.2f\" %cubo)"
   ]
  },
  {
   "cell_type": "markdown",
   "metadata": {},
   "source": [
    "### 7- João Papo-de-Pescador, homem de bem, comprou um microcomputador para controlar o rendimento diário de seu trabalho. Toda vez que ele traz um peso de peixes maior que o estabelecido pelo regulamento de pesca do estado de São Paulo (50 quilos) deve pagar uma multa de RS 4,00 por quilo excedente. João precisa que você faça um programa que leia a variável peso (peso de peixes) e verifique se há excesso. Se houver, gravar na variável excesso e na variável multa o valor da multa que João deverá pagar. Caso contrário mostrar tais variáveis com o conteúdo ZERO."
   ]
  },
  {
   "cell_type": "code",
   "execution_count": 4,
   "metadata": {},
   "outputs": [
    {
     "name": "stdout",
     "output_type": "stream",
     "text": [
      "Digite o peso: 53.35\n",
      "Excesso: 3.35 Kg  Multa: 13.40 Kg\n",
      "Excesso: 3.35; Multa: 13.40\n"
     ]
    }
   ],
   "source": [
    "peso = float(input(\"Digite o peso: \"))\n",
    "excesso = 0.0\n",
    "multa = 0.0\n",
    "if peso > 50.0:\n",
    "    excesso = peso - 50.0\n",
    "    multa = 4.00 * excesso\n",
    "\n",
    "print(\"Excesso: %.2f Kg  Multa: %.2f Kg\" %(excesso, multa))\n",
    "print(f\"Excesso: {excesso:.2f}; Multa: {multa:.2f}\")"
   ]
  },
  {
   "cell_type": "markdown",
   "metadata": {},
   "source": [
    "### 8 Faça um Programa que pergunte quanto você ganha por hora e o número de horas\n",
    "### trabalhadas no mês. Calcule e mostre o total do seu salário no referido mês,\n",
    "### sabendo-se que são descontados 11% para o Imposto de Renda, 8% para o INSS e 5%\n",
    "### para o sindicato, faça um programa que nos dê:\n",
    "- salário bruto.\n",
    "- quanto pagou ao INSS.\n",
    "- quanto pagou ao sindicato.\n",
    "- o salário líquido.\n",
    "- calcule os descontos e o salário líquido, conforme a tabela abaixo:\n",
    "    + Salário Bruto : RS\n",
    "    - IR (11%) : RS\n",
    "    - INSS (8%) : RS\n",
    "    - Sindicato ( 5%) : RS \n",
    "    - Salário Liquido : RS\n",
    "### Obs.: Salário Bruto - Descontos = Salário Líquido."
   ]
  },
  {
   "cell_type": "code",
   "execution_count": 8,
   "metadata": {},
   "outputs": [
    {
     "name": "stdout",
     "output_type": "stream",
     "text": [
      "Digite o valor da hora: 12\n",
      "Digite as horas trabalhadas: 100\n",
      "\n",
      "Imposto de Renda: 132.00\n",
      "INSS: 96.00\n",
      "Sindicato: 60.00\n",
      "Salario Bruto: 1200.00. Salario liquido: 912.00\n"
     ]
    }
   ],
   "source": [
    "valor = float(input(\"Digite o valor da hora: \"))\n",
    "horas = int(input(\"Digite as horas trabalhadas: \"))\n",
    "salarioBruto = float(valor * horas)\n",
    "\n",
    "impostoRenda = float(salarioBruto * 0.11)\n",
    "inss = float(salarioBruto * 0.08)\n",
    "sindicato = float(salarioBruto * 0.05)\n",
    "\n",
    "salarioLiquido = float(salarioBruto - impostoRenda - inss - sindicato)\n",
    "\n",
    "print(f\"\\nImposto de Renda: {impostoRenda:.2f}\\nINSS: {inss:.2f}\\nSindicato: {sindicato:.2f}\")\n",
    "print(f\"Salario Bruto: {salarioBruto:.2f}. Salario liquido: {salarioLiquido:.2f}\")"
   ]
  },
  {
   "cell_type": "markdown",
   "metadata": {},
   "source": [
    "### 9 Faça um programa que leia 2 strings e informe o conteúdo delas seguido do seu comprimento. Informe também se as duas strings possuem o mesmo comprimento e são iguais ou diferentes no conteúdo.\n",
    "### Exemplo:\n",
    "#### String 1: Brasil Hexa 2018\n",
    "#### String 2: Brasil! Hexa 2018!\n",
    "#### Tamanho de \"Brasil Hexa 2018\": 16 caracteres\n",
    "#### Tamanho de \"Brasil! Hexa 2018!\": 18 caracteres\n",
    "#### As duas strings são de tamanhos diferentes.\n",
    "#### As duas strings possuem conteúdo diferente."
   ]
  },
  {
   "cell_type": "code",
   "execution_count": 31,
   "metadata": {},
   "outputs": [
    {
     "name": "stdout",
     "output_type": "stream",
     "text": [
      "String 1: Brasil Hexa 2018\n",
      "String 2: Brasil! Hexa 2018!\n",
      "\n",
      "Tamanho de Brasil Hexa 2018: 16\n",
      "Tamanho de Brasil! Hexa 2018!: 18\n",
      "\n",
      "As duas strings são de tamanhos diferentes.\n",
      "As duas strings possuem conteúdo diferente.\n"
     ]
    }
   ],
   "source": [
    "string = [\"Brasil Hexa 2018\", \"Brasil! Hexa 2018!\"]\n",
    "\n",
    "tamanho = [len(string[0]), len(string[1])]\n",
    "\n",
    "print(f\"String 1: {string[0]}\\nString 2: {string[1]}\\n\")\n",
    "print(f\"Tamanho de {string[0]}: {tamanho[0]}\\nTamanho de {string[1]}: {tamanho[1]}\\n\")\n",
    "\n",
    "if tamanho[0] != tamanho[1]:\n",
    "    print(\"As duas strings são de tamanhos diferentes.\")\n",
    "    \n",
    "else:\n",
    "    print(\"As duas strings são de tamanhos iguais.\")\n",
    "\n",
    "if string[0][:] != string[1][:]:\n",
    "    print(\"As duas strings possuem conteúdo diferente.\")\n",
    "\n",
    "else:\n",
    "    print(\"As duas strings possuem conteúdo iguais.\")"
   ]
  },
  {
   "cell_type": "markdown",
   "metadata": {},
   "source": [
    "### 10 Faça um programa que permita ao usuário digitar o seu nome e em seguida mostre o nome do usuário de trás para frente utilizando somente letras maiúsculas.\n",
    "### Dica: lembre−se que ao informar o nome o usuário pode digitar letras maiúsculas ou minúsculas. Observação: não use loops."
   ]
  },
  {
   "cell_type": "code",
   "execution_count": 48,
   "metadata": {},
   "outputs": [
    {
     "name": "stdout",
     "output_type": "stream",
     "text": [
      "Digite seu nome: Lucas\n"
     ]
    },
    {
     "data": {
      "text/plain": [
       "'SACUL'"
      ]
     },
     "execution_count": 48,
     "metadata": {},
     "output_type": "execute_result"
    }
   ],
   "source": [
    "nome = input(\"Digite seu nome: \")\n",
    "nome.upper()[::-1]"
   ]
  },
  {
   "cell_type": "markdown",
   "metadata": {},
   "source": [
    "### 11 Faça um programa que solicite a data de nascimento (dd/mm/aaaa) do usuário e imprima a data com o nome do mês por extenso.\n",
    "#### Data de Nascimento: 29/10/1973\n",
    "#### Você nasceu em 29 de Outubro de 1973.\n",
    "#### Obs.: Não use desvio condicional nem loops."
   ]
  },
  {
   "cell_type": "code",
   "execution_count": 41,
   "metadata": {},
   "outputs": [
    {
     "name": "stdout",
     "output_type": "stream",
     "text": [
      "Dia de nascimento: 30\n",
      "Mes de nascimento: 05\n",
      "Ano de nascimento: 1997\n",
      "\n",
      "Você nasceu em 30 de Maio de 1997\n"
     ]
    }
   ],
   "source": [
    "dia = int(input(\"Dia de nascimento: \"))\n",
    "mes = int(input(\"Mes de nascimento: \"))\n",
    "ano = int(input(\"Ano de nascimento: \"))\n",
    "\n",
    "meses = [\"Janeiro\", \"Janeiro\", \"Fevereiro\", \"Março\", \"Abriu\", \"Maio\", \"Junho\",\n",
    "         \"Julho\", \"Agosto\", \"Setembro\", \"Outubro\", \"Novembro\", \"Dezembro\"]\n",
    "\n",
    "print(f\"\\nVocê nasceu em {dia} de {meses[mes]} de {ano}\")"
   ]
  },
  {
   "cell_type": "markdown",
   "metadata": {},
   "source": [
    "### 12 Leet é uma forma de se escrever o alfabeto latino usando outros símbolos em lugar das letras, como números por exemplo. A própria palavra leet admite muitas variações, como l33t ou 1337. O uso do leet reflete uma subcultura relacionada ao mundo dos jogos de computador e internet, sendo muito usada para confundir os iniciantes e afirmar-se como parte de um grupo. Pesquise sobre as principais formas de traduzir as letras. Depois, faça um programa que peça uma texto e transforme-o para a grafia leet speak.\n",
    "### Desafio: não use loops nem desvios condicionais."
   ]
  },
  {
   "cell_type": "code",
   "execution_count": 8,
   "metadata": {},
   "outputs": [
    {
     "name": "stdout",
     "output_type": "stream",
     "text": [
      "Digite algo: Testando alguma coisa que possa dar certo.\n",
      "\n",
      " T35t4nd0 41gum4 c0i54 qu3 p0554 d4r c3rt0.\n"
     ]
    }
   ],
   "source": [
    "def leet(text):\n",
    "    \n",
    "    getchar = lambda c: chars[c] if c in chars else c\n",
    "    chars = {\"a\":\"4\",\"e\":\"3\",\"l\":\"1\",\"o\":\"0\",\"s\":\"5\"}\n",
    "    return ''.join(getchar(c) for c in text)\n",
    "\n",
    "texto = input(\"Digite algo: \")\n",
    "print(\"\\n\",leet(texto))"
   ]
  },
  {
   "cell_type": "code",
   "execution_count": null,
   "metadata": {},
   "outputs": [],
   "source": []
  }
 ],
 "metadata": {
  "kernelspec": {
   "display_name": "Python 3",
   "language": "python",
   "name": "python3"
  },
  "language_info": {
   "codemirror_mode": {
    "name": "ipython",
    "version": 3
   },
   "file_extension": ".py",
   "mimetype": "text/x-python",
   "name": "python",
   "nbconvert_exporter": "python",
   "pygments_lexer": "ipython3",
   "version": "3.7.1"
  }
 },
 "nbformat": 4,
 "nbformat_minor": 2
}
