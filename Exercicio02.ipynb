{
 "cells": [
  {
   "cell_type": "markdown",
   "metadata": {},
   "source": [
    "## Lucas de Souza Silva\n",
    "## RA: 817123053"
   ]
  },
  {
   "cell_type": "markdown",
   "metadata": {},
   "source": [
    "#### 1 Crie um programa que recebe uma lista de números e\n",
    "- retorne o maior elemento\n",
    "- retorne a soma dos elementos\n",
    "- retorne o número de ocorrências do primeiro elemento da lista\n",
    "- retorne a média dos elementos\n",
    "- retorne o valor mais próximo da média dos elementos\n",
    "- retorne a soma dos elementos com valor negativo\n",
    "- retorne a quantidade de vizinhos iguais"
   ]
  },
  {
   "cell_type": "code",
   "execution_count": 1,
   "metadata": {},
   "outputs": [
    {
     "name": "stdout",
     "output_type": "stream",
     "text": [
      "Digite um numero: -2\n",
      "Digite um numero: -2\n",
      "Digite um numero: 5\n",
      "Digite um numero: 3\n",
      "Digite um numero: 9\n",
      "Digite um numero: -4\n",
      "\n",
      "-- Resultados --\n",
      " Maior valor: 9\n",
      " Soma: 9\n",
      " Media: 2\n",
      " Numero de Ocorrencias: 1\n",
      " Proximo da Media: 3\n",
      " Soma de Negativos: -8\n",
      " Vizinhos Iguais: 1\n",
      " Menor Valor: -4\n",
      " Lista: [-2, -2, 5, 3, 9, -4]\n"
     ]
    }
   ],
   "source": [
    "lista = []\n",
    "soma = 0\n",
    "i = 0\n",
    "vizinhos = 0\n",
    "negativos = 0\n",
    "ocorrencias = 0\n",
    "proximoMedia = 0\n",
    "while len(lista) < 6:\n",
    "    x = int(input(\"Digite um numero: \"))\n",
    "    lista.append(x)    \n",
    "    if x < 0:\n",
    "        negativos += x\n",
    "    if i > 0:\n",
    "        if lista[i-1] == lista[i]:\n",
    "            vizinhos += 1\n",
    "    i += 1\n",
    "    soma += x\n",
    "    if len(lista) > 1 and lista[0] == x:\n",
    "        ocorrencias += 1\n",
    "\n",
    "media = round(sum(lista) / len(lista))\n",
    "for one in lista:\n",
    "    if (media - one) == 1:\n",
    "        proximoMedia = one\n",
    "    if (media - one) == -1:\n",
    "        proximoMedia = one\n",
    "\n",
    "maiorValor = max(lista)\n",
    "menorValor = min(lista)\n",
    "\n",
    "print('\\n-- Resultados --\\n',\n",
    "      f'Maior valor: {maiorValor}\\n',\n",
    "      f'Soma: {soma}\\n',\n",
    "      f'Media: {media}\\n',\n",
    "      f'Numero de Ocorrencias: {ocorrencias}\\n',\n",
    "      f'Proximo da Media: {proximoMedia}\\n',\n",
    "      f'Soma de Negativos: {negativos}\\n',\n",
    "      f'Vizinhos Iguais: {vizinhos}\\n',\n",
    "      f'Menor Valor: {menorValor}\\n',\n",
    "      f'Lista: {lista}')"
   ]
  },
  {
   "cell_type": "markdown",
   "metadata": {},
   "source": [
    "#### 2 Faça um programa que receba duas listas e retorne True se são iguais ou False caso contrario.\n",
    "#### Duas listas são iguais se possuem os mesmos valores e na mesma ordem."
   ]
  },
  {
   "cell_type": "code",
   "execution_count": 12,
   "metadata": {},
   "outputs": [
    {
     "name": "stdout",
     "output_type": "stream",
     "text": [
      "Listas iguais:  False\n"
     ]
    }
   ],
   "source": [
    "lista1 = [1, 'ole', 3, 5]\n",
    "lista2 = [1, 'ola', 3, 5]\n",
    "\n",
    "if lista1 == lista2:\n",
    "    print('Listas iguais: ', True)\n",
    "        \n",
    "else:\n",
    "    print('Listas iguais: ', False)"
   ]
  },
  {
   "cell_type": "markdown",
   "metadata": {},
   "source": [
    "#### 3 Faça um programa que receba duas listas e retorne True se têm os mesmos elementos ou False caso contrário\n",
    "#### Duas listas possuem os mesmos elementos quando são compostas pelos mesmos valores, mas não obrigatoriamente na mesma ordem."
   ]
  },
  {
   "cell_type": "code",
   "execution_count": 19,
   "metadata": {},
   "outputs": [
    {
     "name": "stdout",
     "output_type": "stream",
     "text": [
      "Listas iguais:  True\n"
     ]
    }
   ],
   "source": [
    "lista1 = [1, 2, 3, 4, -1, 0]\n",
    "lista2 = [4, 3, 2, 1, 0, -1]\n",
    "\n",
    "lista1.sort()\n",
    "lista2.sort()\n",
    "\n",
    "if lista1 == lista2:\n",
    "    print('Listas iguais: ', True)\n",
    "        \n",
    "else:\n",
    "    print('Listas iguais: ', False)"
   ]
  },
  {
   "cell_type": "markdown",
   "metadata": {},
   "source": [
    "#### 4 Faça um programa que percorre uma lista com o seguinte formato: [['Brasil',\n",
    "#### 'Italia', [10, 9]], ['Brasil', 'Espanha', [5, 7]], ['Italia', 'Espanha', [7,8]]]. Essa lista indica o\n",
    "#### número de faltas que cada time fez em cada jogo. Na lista acima, no jogo entre Brasil\n",
    "#### e Itália, o Brasil fez 10 faltas e a Itália fez 9.\n",
    "#### O programa deve imprimir na tela:\n",
    "#### - o total de faltas do campeonato\n",
    "#### - o time que fez mais faltas\n",
    "#### - o time que fez menos faltas"
   ]
  },
  {
   "cell_type": "code",
   "execution_count": 120,
   "metadata": {},
   "outputs": [
    {
     "name": "stdout",
     "output_type": "stream",
     "text": [
      "Lista: ['Brasil', 'Italia', [10, 9]], posição:  0\n",
      "Lista: ['Brasil', 'Espanha', [5, 7]], posição:  1\n",
      "Lista: ['Italia', 'Espanha', [7, 8]], posição:  2\n",
      "\n",
      "O total de faltas foi 46\n",
      "Time com mais faltas: Italia com 16 faltas\n",
      "Time com menos faltas: Brasil com 15 faltas\n"
     ]
    }
   ],
   "source": [
    "lista = [['Brasil', 'Italia', [10, 9]], ['Brasil', 'Espanha', [5, 7]], ['Italia', 'Espanha', [7,8]]]\n",
    "i = 0\n",
    "\n",
    "while i < len(lista):\n",
    "    print(f'Lista: {lista[i]}, posição: ', i)    \n",
    "    i += 1\n",
    "    \n",
    "total_faltas = 0\n",
    "for jogo in lista:    \n",
    "    total_faltas += jogo[2][0]\n",
    "    total_faltas += jogo[2][1]\n",
    "print (f'\\nO total de faltas foi {total_faltas}')\n",
    "\n",
    "d = {}\n",
    "for jogo in lista:\n",
    "    d[jogo[0]] = 0\n",
    "    d[jogo[1]] = 0\n",
    "\n",
    "for jogo in lista:\n",
    "    d[jogo[0]] += jogo[2][0]\n",
    "    d[jogo[1]] += jogo[2][1]\n",
    "    \n",
    "print(f'Time com mais faltas: {max(d)} com {d[max(d)]} faltas')\n",
    "print(f'Time com menos faltas: {min(d)} com {d[min(d)]} faltas')"
   ]
  },
  {
   "cell_type": "markdown",
   "metadata": {},
   "source": [
    "#### 5 Escreva um programa que conta a quantidade de vogais em uma string e armazena tal quantidade em um dicionário, onde a chave é a vogal considerada."
   ]
  },
  {
   "cell_type": "code",
   "execution_count": 122,
   "metadata": {},
   "outputs": [
    {
     "name": "stdout",
     "output_type": "stream",
     "text": [
      "{'e': 4, 'i': 1, 'o': 3}\n"
     ]
    }
   ],
   "source": [
    "def conta_vogais(string):\n",
    "    string = string.lower()\n",
    "    vogais = 'aeiou'\n",
    "    return {i: string.count(i) for i in vogais if i in string}\n",
    "\n",
    "print(conta_vogais('hello word! I`m Developer'))"
   ]
  },
  {
   "cell_type": "markdown",
   "metadata": {},
   "source": [
    "#### 6 Escreva um programa que lê duas notas de vários alunos e armazena tais notas em um dicionário, onde a chave é o nome do aluno. A entrada de dados deve terminar quando for lida uma string vazia como nome. Escreva uma função que retorna a média do aluno, dado seu nome."
   ]
  },
  {
   "cell_type": "code",
   "execution_count": 128,
   "metadata": {},
   "outputs": [
    {
     "name": "stdout",
     "output_type": "stream",
     "text": [
      "Digite o nome do aluno\n"
     ]
    }
   ],
   "source": [
    "nome = input (\"Digite o nome do aluno\")\n",
    "dicionario = {}\n",
    "\n",
    "def calcula_media (nome):\n",
    "    return (dicionario[nome][0] + dicionario[nome][1]) / 2\n",
    " \n",
    "    \n",
    "def exibe_todas_as_medias():\n",
    "    for aluno in dicionario:\n",
    "        media = (dicionario[aluno][0] + dicionario[aluno][1]) / 2\n",
    "        print (f'{aluno}: {media}')\n",
    "        \n",
    "while len (nome) > 0:\n",
    "    nota1 = float (input (f'Digite a nota 1 do aluno {nome}\\n'))\n",
    "    nota2 = float (input (f'Digite a nota 2 do aluno {nome}\\n'))\n",
    "    dicionario[nome] = (nota1, nota2)\n",
    "    nome = input (\"Digite o nome do próximo aluno\")\n",
    "\n",
    "exibe_todas_as_medias()"
   ]
  },
  {
   "cell_type": "markdown",
   "metadata": {},
   "source": [
    "#### 7 Uma pista de Kart permite 10 voltas para cada um de 6 corredores. Escreva um programa que leia todos os tempos em segundos e os guarde em um dicionário, onde a chave é o nome do corredor. Ao final diga de quem foi a melhor volta da prova e em que volta; e ainda a classificação final em ordem (1o campeão). O campeão é o que tem a menor média de tempos."
   ]
  },
  {
   "cell_type": "code",
   "execution_count": 137,
   "metadata": {},
   "outputs": [
    {
     "name": "stdout",
     "output_type": "stream",
     "text": [
      "1° lugar: Lucas - 53.7 segs.\n",
      "2° lugar: Gustavo - 54.1 segs.\n",
      "3° lugar: Murilo - 56.4 segs.\n",
      "4° lugar: Lilian - 58.6 segs.\n",
      "5° lugar: Samara - 60.8 segs.\n",
      "6° lugar: Jhonatan - 61.9 segs.\n"
     ]
    }
   ],
   "source": [
    "dict_corredor = {\n",
    "    \"Lucas\":   [45, 56, 33, 67, 86, 45, 67, 26, 22, 90],\n",
    "    \"Samara\":  [56, 60, 72, 50, 67, 58, 61, 63, 62, 59],\n",
    "    \"Gustavo\": [56, 52, 58, 48, 23, 59, 61, 65, 59, 60],\n",
    "    \"Lilian\":  [10, 89, 55, 70, 85, 73, 56, 65, 23, 60],\n",
    "    \"Jhonatan\":[76, 55, 67, 50, 52, 53, 70, 75, 65, 56],\n",
    "    \"Murilo\":  [56, 56, 63, 45, 70, 34, 55, 60, 63, 62]\n",
    "}\n",
    "\n",
    "qtd_voltas = 0\n",
    "medias = dict_corredor\n",
    "nome_corredor = \"\"\n",
    "melhorVolta = dict_corredor[min(medias)][0]\n",
    "for chave in dict_corredor:\n",
    "    soma = 0\n",
    "    for num in dict_corredor[chave]:\n",
    "        if num < melhorVolta:\n",
    "            melhorVolta = num\n",
    "            nome_corredor = chave\n",
    "        soma += num\n",
    "    medias[chave] = soma / 10\n",
    "\n",
    "import operator\n",
    "sorte = sorted(medias.items(), key=operator.itemgetter(1))\n",
    "for i in range(0, 6):\n",
    "    print(\"%s° lugar: %s - %s segs.\" % (i + 1, sorte[i][0], sorte[i][1]))"
   ]
  },
  {
   "cell_type": "markdown",
   "metadata": {},
   "source": [
    "#### 8 Escreva um programa para armazenar uma agenda de telefones em um dicionário. Cada pessoa pode ter um ou mais telefones e a chave do dicionário é o nome da pessoa. Seu programa deve ter as seguintes funções: incluirNovoNome – essa função acrescenta um novo nome na agenda, com um ou mais telefones. Ela deve receber como argumentos o nome e os telefones. incluirTelefone – essa função acrescenta um telefone em um nome existente na agenda. Caso o nome não exista na agenda, voc deve perguntar se a pessoa deseja ê̂ duas notas de vários alunos e armazena tais notas em inclui-lo. Caso a resposta seja afirmativa, use a função anterior para incluir o novo nome. excluirTelefone – essa função exclui um telefone de uma pessoa que já está na agenda. Se a pessoa tiver apenas um telefone, ela deve ser excluída da agenda. excluirNome – essa função exclui uma pessoa da agenda. consultarTelefone – essa função retorna os telefones de uma pessoa na agenda."
   ]
  },
  {
   "cell_type": "code",
   "execution_count": 144,
   "metadata": {},
   "outputs": [
    {
     "name": "stdout",
     "output_type": "stream",
     "text": [
      "\n",
      "Escolha uma opção: \n",
      "1 - Incluir Novo Nome\n",
      "2 - Incluir Telefone\n",
      "3 - Excluir Telefone\n",
      "4 - Consultar Agenda\n",
      "0 - Encerrar Programa\n",
      "1\n",
      "Insira o nome da pessoa: lcuas\n",
      "Insira um telefone da pessoa: 1234324356\n",
      "Inserir outro telefone ou digite 0 para parar: 12345346\n",
      "Inserir outro telefone ou digite 0 para parar: 0\n",
      "\n",
      "Escolha uma opção: \n",
      "1 - Incluir Novo Nome\n",
      "2 - Incluir Telefone\n",
      "3 - Excluir Telefone\n",
      "4 - Consultar Agenda\n",
      "0 - Encerrar Programa\n",
      "4\n",
      "Insira o nome da pessoa: lcuas\n",
      "[1234324356, 12345346]\n",
      "\n",
      "Escolha uma opção: \n",
      "1 - Incluir Novo Nome\n",
      "2 - Incluir Telefone\n",
      "3 - Excluir Telefone\n",
      "4 - Consultar Agenda\n",
      "0 - Encerrar Programa\n",
      "0\n"
     ]
    }
   ],
   "source": [
    "agenda = {}\n",
    "\n",
    "\n",
    "def incluirNovoNome(nome, telefones):\n",
    "    global agenda\n",
    "    agenda[nome] = telefones\n",
    "    \n",
    "def incluirTelefone(nome, telefone):\n",
    "    global agenda\n",
    "    if nome in agenda.keys():\n",
    "        agenda[nome].append(telefone)\n",
    "    else:\n",
    "        if input(\"Pessoa não encontrada, deseja inclui-la na agenda? Digite sim ou nao\") == \"sim\":\n",
    "            telefones = [telefone]\n",
    "            incluirNovoNome(nome, telefones)\n",
    "            \n",
    "def excluirTelefone(nome, telefone):\n",
    "    global agenda\n",
    "    if nome in agenda.keys():\n",
    "        if len(agenda[nome]) == 1:\n",
    "            del agenda[nome]\n",
    "        else:\n",
    "            for num in range(0, len(agenda[nome]) - 1):\n",
    "                if telefone == agenda[nome][num]:\n",
    "                    agenda[nome].pop(num)\n",
    "        \n",
    "def consultarTelefone(nome):\n",
    "    global agenda\n",
    "    if nome in agenda.keys():\n",
    "        print(agenda[nome])\n",
    "\n",
    "opcao = -1\n",
    "while opcao != 0:\n",
    "    opcao = int(input(\"\\nEscolha uma opção: \\n1 - Incluir Novo Nome\\n2 - Incluir Telefone\\n3 - Excluir Telefone\\n4 - Consultar Agenda\\n0 - Encerrar Programa\\n\"))\n",
    "    \n",
    "    #Inserir nome\n",
    "    if opcao == 1:\n",
    "        nome = input(\"Insira o nome da pessoa: \")\n",
    "        telefones = []\n",
    "        telefones.append(int(input(\"Insira um telefone da pessoa: \")))\n",
    "        telefone = -1\n",
    "        while telefone != 0:\n",
    "            telefone = int(input(\"Inserir outro telefone ou digite 0 para parar: \"))\n",
    "            if telefone != 0:\n",
    "                telefones.append(telefone)\n",
    "        incluirNovoNome(nome, telefones)\n",
    "        \n",
    "    # Inserir telefone\n",
    "    elif opcao == 2:\n",
    "        nome = input(\"Insira o nome da pessoa: \")\n",
    "        telefone = int(input(\"Insira um novo telefone da pessoa: \"))\n",
    "        incluirTelefone(nome, telefone)\n",
    "        \n",
    "    # excluir telefone\n",
    "    elif opcao == 3:\n",
    "        nome = input(\"Insira o nome da pessoa: \")\n",
    "        telefone = int(input(\"Insira o telefone da pessoa a qual deseja excluir: \"))\n",
    "        excluirTelefone(nome, telefone)\n",
    "    elif opcao == 4:\n",
    "        consultarTelefone(input(\"Insira o nome da pessoa: \"))"
   ]
  },
  {
   "cell_type": "markdown",
   "metadata": {},
   "source": [
    "#### 9 Faça um programa que leia um arquivo texto contendo uma lista de endereços IP e gere um outro arquivo, contendo um relatório dos endereços IP válidos e inválidos. O arquivo de entrada possui o seguinte formato:\n",
    "\n",
    "200.135.80.9 192.168.1.1 8.35.67.74 257.32.4.5 85.345.1.2 1.2.3.4 9.8.234.5 192.168.0.256 O arquivo de saída possui o seguinte formato: [Endereços válidos:] 200.135.80.9 192.168.1.1 8.35.67.74 1.2.3.4 [Endereços inválidos:] 257.32.4.5 85.345.1.2 9.8.234.5 192.168.0.256"
   ]
  },
  {
   "cell_type": "code",
   "execution_count": 159,
   "metadata": {},
   "outputs": [],
   "source": [
    "import socket\n",
    "\n",
    "ipsValidos = ['200.135.80.9', '192.168.1.1', '8.35.67.74', '1.2.3.4']\n",
    "ipsInvalidos = ['257.32.4.5', '85.345.1.2', '9.8.234.5', '192.168.0.256']\n",
    "\n",
    "ips = open(\"ips.txt\", \"w+\")\n",
    "for ip in ips:\n",
    "    try:\n",
    "        socket.inet_aton(ip)\n",
    "        \n",
    "        ipsValidos.append(ip)\n",
    "    except socket.error:\n",
    "        \n",
    "        ipsInvalidos.append(ip)\n",
    "        \n",
    "ips.close()\n",
    "\n",
    "saida = open(\"ips.txt\", \"w+\")\n",
    "\n",
    "saida.write(\"[Endereços válidos:]\\n\")\n",
    "for ip in ipsValidos:\n",
    "    saida.write(ip)\n",
    "    \n",
    "saida.write(\"\\n\\n[Endereços inválidos:]\\n\")\n",
    "for ip in ipsInvalidos:\n",
    "    saida.write(ip)\n",
    "    \n",
    "saida.close()"
   ]
  },
  {
   "cell_type": "markdown",
   "metadata": {},
   "source": [
    "10 A ACME Inc., uma empresa de 500 funcionários, está tendo problemas de espaço\n",
    "em disco no seu servidor de arquivos. Para tentar resolver este problema, o\n",
    "Administrador de Rede precisa saber qual o espaço ocupado pelos usuários, e\n",
    "identificar os usuários com maior espaço ocupado. Através de um programa, baixado\n",
    "da Internet, ele conseguiu gerar o seguinte arquivo, chamado \"usuarios.txt\":\n",
    "alexandre 456123789\n",
    "anderson 1245698456\n",
    "antonio 123456456\n",
    "carlos 91257581\n",
    "cesar 987458\n",
    "rosemary 789456125\n",
    "Neste arquivo, o nome do usuário possui 15 caracteres. A partir deste arquivo, você\n",
    "deve criar um programa que gere um relatório, chamado \"relatório.txt\", no seguinte\n",
    "formato:\n",
    "ACME Inc. Uso do espaço em disco pelos usuários\n",
    "--------------------------------------------------------------\n",
    "----------\n",
    "Nr. Usuário Espaço utilizado % do uso\n",
    "1 alexandre 434,99 MB 16,85%\n",
    "2 anderson 1187,99 MB 46,02%\n",
    "3 antonio 117,73 MB 4,56%\n",
    "4 carlos 87,03 MB 3,37%\n",
    "5 cesar 0,94 MB 0,04%\n",
    "6 rosemary 752,88 MB 29,16%\n",
    "Espaço total ocupado: 2581,57 MB\n",
    "Espaço médio ocupado: 430,26 MB\n",
    "O arquivo de entrada deve ser lido uma única vez, e os dados armazenados em\n",
    "memória, caso sejam necessários, de forma a agilizar a execução do programa. A\n",
    "conversão da espaço ocupado em disco, de bytes para megabytes deverá ser feita\n",
    "através de uma função separada, que será chamada pelo programa principal. O\n",
    "cálculo do percentual de uso também deverá ser feito através de uma função, que\n",
    "será chamada pelo programa principal."
   ]
  },
  {
   "cell_type": "code",
   "execution_count": 220,
   "metadata": {},
   "outputs": [],
   "source": [
    "def uso_mb(tamanho):\n",
    "    return float(tamanho / (1024*1024))\n",
    "\n",
    "def uso_memoria(tamanho, total):\n",
    "    return float(tamanho / total) * 100\n",
    "\n",
    "dic = {}\n",
    "total = 0\n",
    "\n",
    "users = open(\"usuarios.txt\", \"w+\")\n",
    "users.write(\"alexandre 456123789 anderson 1245698456 antonio 123456456 carlos 91257581 cesar 987458 rosemary 789456125\")\n",
    "users.close()\n",
    "\n",
    "usuarios = open(\"usuarios.txt\")\n",
    "i = 0\n",
    "for usuario in usuarios:\n",
    "    nome = usuario.split(\" \")\n",
    "    nome = nome[::2]\n",
    "    \n",
    "    memoria = usuario.split(\" \")\n",
    "    memoria = memoria[1::2]\n",
    "    \n",
    "    while i < len(memoria):\n",
    "        dic[nome[i]] = int(memoria[i])\n",
    "        total += int(memoria[i])\n",
    "        i += 1\n",
    "        \n",
    "usuarios.close()\n",
    "media = total / len(dic.keys())\n",
    "\n",
    "relatorio = open(\"relatório.txt\", \"w+\")\n",
    "relatorio.write(\"ACME Inc. Uso do espaço em disco pelos usuários.\\n\")\n",
    "relatorio.write(\"--------------------------------------------------------------\\n\")\n",
    "relatorio.write(\"Nr.\\tUsuário \\tEspaço utilizado\\t% do uso\\n\")\n",
    "\n",
    "cont = 1\n",
    "for usuario in dic:\n",
    "    relatorio.write(str(cont) + \"\\t\" + usuario + \"          \" + \"{0:.2f}\".format(uso_mb(dic[usuario])) + \" MB             \" + \"{0:.2f}\".format(uso_memoria(dic[usuario], total)) + \"%\\n\")\n",
    "    cont += 1\n",
    "    \n",
    "\n",
    "relatorio.write(\"Espaço total ocupado: \" + \"{0:.2f}\".format(uso_mb(total)) + \"\\n\")\n",
    "relatorio.write(\"Espaço médio ocupado: \" + \"{0:.2f}\".format(uso_mb(media)))\n",
    "\n",
    "relatorio.close()"
   ]
  },
  {
   "cell_type": "code",
   "execution_count": null,
   "metadata": {},
   "outputs": [],
   "source": []
  }
 ],
 "metadata": {
  "kernelspec": {
   "display_name": "Python 3",
   "language": "python",
   "name": "python3"
  },
  "language_info": {
   "codemirror_mode": {
    "name": "ipython",
    "version": 3
   },
   "file_extension": ".py",
   "mimetype": "text/x-python",
   "name": "python",
   "nbconvert_exporter": "python",
   "pygments_lexer": "ipython3",
   "version": "3.7.1"
  }
 },
 "nbformat": 4,
 "nbformat_minor": 2
}
