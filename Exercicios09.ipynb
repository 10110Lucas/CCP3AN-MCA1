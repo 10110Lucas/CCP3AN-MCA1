{
 "cells": [
  {
   "cell_type": "markdown",
   "metadata": {},
   "source": [
    "## Lucas de Souza Silva\n",
    "### 817123053\n",
    "\n",
    "### 1 Implemente um gerador infinito de números primos.\n",
    "Ex:\n",
    "i = 0\n",
    "while i < 10:\n",
    "print(gera_primos())\n",
    "i += 1\n",
    "Este código imprime os 10 primeiros números primos, isto é: 1, 2, 3, 5, 7, 11, 13, 17,\n",
    "19, 23."
   ]
  },
  {
   "cell_type": "code",
   "execution_count": 1,
   "metadata": {},
   "outputs": [
    {
     "name": "stdout",
     "output_type": "stream",
     "text": [
      "1\n",
      "2\n",
      "3\n",
      "5\n",
      "7\n",
      "11\n",
      "13\n",
      "17\n",
      "19\n",
      "23\n"
     ]
    }
   ],
   "source": [
    "def gera_primos():\n",
    "    num = 1\n",
    "    while True:\n",
    "        if primo(num):\n",
    "            yield num\n",
    "        num += 1\n",
    "        \n",
    "def primo(num):\n",
    "    if (num == 1 or num == 2):\n",
    "        return True;\n",
    "    else:\n",
    "        for i in range(2, num):\n",
    "            if(num % i == 0):\n",
    "                return False\n",
    "        return True\n",
    "    \n",
    "g = gera_primos()\n",
    "i = 0\n",
    "while i < 10:\n",
    "    print(g.send(None))\n",
    "    i += 1"
   ]
  },
  {
   "cell_type": "markdown",
   "metadata": {},
   "source": [
    "### 2 Implementar um gerador que leia um arquivo e retorne uma lista de tuplas com os dados (o separador de campo do arquivo é virgula), eliminando as linhas vazias. Caso ocorra algum problema, imprima uma mensagem de aviso e encerre o programa. Use o exemplo abaixo como arquivo de entrada:\n",
    "#### Ex:\n",
    "#### Entrada:\n",
    "#### teste.txt\n",
    "#### 1,vermelho,2,verde,3,amarelo,4,roxo,5,verde,6,preto,7,laranja,8,amarelo,9,preto,10,roxo,11,roxo,12,branco\n",
    "#### Chamada:\n",
    "#### gera_tupla(teste.txt)\n",
    "#### Retorno:\n",
    "#### [(1,'vermelho'),(2,'verde'),(3,'amarelo'),(4,'roxo'),(5,'verde'),(6,'preto'),(7,'laranja'),(8,'amarelo'),(9,'preto'),(10,'roxo'),(11,'roxo'),(12,'branco')]"
   ]
  },
  {
   "cell_type": "code",
   "execution_count": 12,
   "metadata": {},
   "outputs": [
    {
     "data": {
      "text/plain": [
       "[('1', 'vermelho'),\n",
       " ('2', 'verde'),\n",
       " ('3', 'amarelo'),\n",
       " ('4', 'roxo'),\n",
       " ('5', 'verde'),\n",
       " ('6', 'preto'),\n",
       " ('7', 'laranja'),\n",
       " ('8', 'amarelo'),\n",
       " ('9', 'preto'),\n",
       " ('10', 'roxo'),\n",
       " ('11', 'roxo'),\n",
       " ('12', 'branco')]"
      ]
     },
     "execution_count": 12,
     "metadata": {},
     "output_type": "execute_result"
    }
   ],
   "source": [
    "def gera_tupla_aux():\n",
    "    nome_arquivo = yield\n",
    "    arquivo = open(nome_arquivo).read().replace('\\n', ',').split(',')\n",
    "    yield list(zip(arquivo[::2], arquivo[1::2]))\n",
    "    \n",
    "g = gera_tupla_aux()\n",
    "g.send(None)\n",
    "gera_tupla = lambda x: g.send(x)\n",
    "\n",
    "gera_tupla('teste.txt')"
   ]
  },
  {
   "cell_type": "markdown",
   "metadata": {},
   "source": [
    "### 3 Implementar dois geradores e rodá-los em paralelo (coroutine) para processar dois arquivos e gerar tuplas. O primeiro é similar ao do exercício 2. O segundo processa outro arquivo, também separado por vírgulas. No final, a lista gerada deve conter tuplas com 3 elementos. Use o exemplo baixo como base:\n",
    "#### Entrada:\n",
    "#### teste1.txt\n",
    "#### 1,vermelho,2,verde,3,amarelo,4,roxo,5,verde,6,preto,7,laranja,8,amarelo,9,preto,10,roxo,11,roxo,12,branco\n",
    "#### teste2.txt\n",
    "#### 0,1,0,0\n",
    "#### 1,1,1,0\n",
    "#### 1,0,0,1\n",
    "#### Chamada:\n",
    "#### gera_tupla1(teste1.txt), gera_tupla2(teste2.txt)\n",
    "#### Retorno:\n",
    "#### [(1,'vermelho',False),(2,'verde',True),(3,'amarelo',False),(4,'roxo',False),(5,'verde',True),(6,'preto',True),(7,'laranja',True),(8,'amarelo',False),(9,'preto',True),(10,'roxo',False),(11,'roxo',False),(12,'branco',True)]"
   ]
  },
  {
   "cell_type": "code",
   "execution_count": 13,
   "metadata": {},
   "outputs": [
    {
     "data": {
      "text/plain": [
       "[('1', 'vermelho', False),\n",
       " ('2', 'verde', True),\n",
       " ('3', 'amarelo', False),\n",
       " ('4', 'roxo', False),\n",
       " ('5', 'verde', True),\n",
       " ('6', 'preto', True),\n",
       " ('7', 'laranja', True),\n",
       " ('8', 'amarelo', False),\n",
       " ('9', 'preto', True),\n",
       " ('10', 'roxo', False),\n",
       " ('11', 'roxo', False),\n",
       " ('12', 'branco', True)]"
      ]
     },
     "execution_count": 13,
     "metadata": {},
     "output_type": "execute_result"
    }
   ],
   "source": [
    "def gera_tupla_aux1():\n",
    "    nome_arquivo = yield\n",
    "    arquivo = open(nome_arquivo).read().replace('\\n', ',').split(',')\n",
    "    yield list(zip(arquivo[::2], arquivo[1::2]))\n",
    "    \n",
    "def gera_tupla_aux2():\n",
    "    nome_arquivo = yield\n",
    "    yield open(nome_arquivo).read().replace('\\n', ',').split(',')\n",
    "    \n",
    "g1 = gera_tupla_aux1()\n",
    "g1.send(None)\n",
    "g2 = gera_tupla_aux2()\n",
    "g2.send(None)\n",
    "\n",
    "gera_tupla1 = lambda x: g1.send(x)\n",
    "gera_tupla2 = lambda x: g2.send(x)\n",
    "\n",
    "result = []\n",
    "for x in zip(gera_tupla1('teste1.txt'), gera_tupla2('teste2.txt')):\n",
    "    result.append((x[0][0], x[0][1], x[1] == str(1)))\n",
    "    \n",
    "result"
   ]
  },
  {
   "cell_type": "markdown",
   "metadata": {},
   "source": [
    "### 4 Escreva um generator que crie um fluxo infinito de inteiros a partir de um valor inicial dado com passo 5.\n",
    "#### Ex: gera_inteiros(7) = 12, 17, 22, 27, ..."
   ]
  },
  {
   "cell_type": "code",
   "execution_count": 16,
   "metadata": {},
   "outputs": [
    {
     "name": "stdout",
     "output_type": "stream",
     "text": [
      "12\n",
      "17\n",
      "22\n",
      "27\n"
     ]
    }
   ],
   "source": [
    "def gera_inteiros(num):\n",
    "    numero = num + 5\n",
    "    yield numero\n",
    "    while True:\n",
    "        numero += 5\n",
    "        yield numero\n",
    "        \n",
    "g = gera_inteiros(7)\n",
    "i = 0\n",
    "while i < 4:\n",
    "    print(g.send(None))\n",
    "    i += 1"
   ]
  },
  {
   "cell_type": "markdown",
   "metadata": {},
   "source": [
    "### 5 Estenda o generator do exercício 4 em uma coroutine que permita que a mudança do passo seja feita de fora (use send()).\n",
    "#### Ex: gera_inteiros_flex(7) = 12, 17, 22, 24, 26, 28, 30...\n",
    "#### Entre 22 e 24 o passo foi alterado de 5 para 2."
   ]
  },
  {
   "cell_type": "code",
   "execution_count": 17,
   "metadata": {},
   "outputs": [
    {
     "name": "stdout",
     "output_type": "stream",
     "text": [
      "12\n",
      "17\n",
      "22\n",
      "24\n",
      "26\n",
      "28\n",
      "30\n"
     ]
    }
   ],
   "source": [
    "def gera_inteiros_flex(num):\n",
    "    numero = num + 5\n",
    "    yield numero\n",
    "    while True:\n",
    "        passo = yield\n",
    "        numero += passo\n",
    "        yield numero\n",
    "        \n",
    "g = gera_inteiros_flex(7)\n",
    "print(g.send(None))\n",
    "\n",
    "i = 0\n",
    "while i < 2:\n",
    "    next(g)\n",
    "    print(g.send(5))\n",
    "    i += 1\n",
    "\n",
    "i = 0\n",
    "while i < 4:\n",
    "    next(g)\n",
    "    print(g.send(2))\n",
    "    i += 1"
   ]
  }
 ],
 "metadata": {
  "kernelspec": {
   "display_name": "Python 3",
   "language": "python",
   "name": "python3"
  },
  "language_info": {
   "codemirror_mode": {
    "name": "ipython",
    "version": 3
   },
   "file_extension": ".py",
   "mimetype": "text/x-python",
   "name": "python",
   "nbconvert_exporter": "python",
   "pygments_lexer": "ipython3",
   "version": "3.7.0"
  }
 },
 "nbformat": 4,
 "nbformat_minor": 2
}
